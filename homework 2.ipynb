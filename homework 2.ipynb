{
 "cells": [
  {
   "cell_type": "markdown",
   "metadata": {},
   "source": [
    "## Task1 -- (Classifier evaluation)"
   ]
  },
  {
   "cell_type": "code",
   "execution_count": 2,
   "metadata": {},
   "outputs": [
    {
     "name": "stdout",
     "output_type": "stream",
     "text": [
      "Reading data...\n",
      "done\n"
     ]
    }
   ],
   "source": [
    "import numpy\n",
    "import urllib\n",
    "import scipy.optimize\n",
    "import random\n",
    "from math import exp\n",
    "from math import log\n",
    "\n",
    "def parseData(fname):\n",
    "  for l in urllib.urlopen(fname):\n",
    "    yield eval(l)\n",
    "\n",
    "print(\"Reading data...\")\n",
    "data = list(parseData(\"http://jmcauley.ucsd.edu/cse190/data/beer/beer_50000.json\"))\n",
    "print(\"done\")\n"
   ]
  },
  {
   "cell_type": "markdown",
   "metadata": {},
   "source": [
    "### 1.Split the data into training, validation, and test sets, via 1/3, 1/3, 1/3 splits. Use random splits of the data "
   ]
  },
  {
   "cell_type": "code",
   "execution_count": 317,
   "metadata": {},
   "outputs": [],
   "source": [
    "data_random = data\n",
    "random.shuffle(data_random)\n",
    "train = data_random[:len(data_random)/3]\n",
    "test = data_random[len(data_random)/3:len(data_random)*2/3]\n",
    "validation = data_random[len(data_random)*2/3:]"
   ]
  },
  {
   "cell_type": "code",
   "execution_count": 318,
   "metadata": {},
   "outputs": [],
   "source": [
    "def feature(datum):\n",
    "  feat = [1, datum['review/taste'], datum['review/appearance'], datum['review/aroma'], datum['review/palate'], datum['review/overall']]\n",
    "  return feat\n",
    "\n",
    "X = [feature(d) for d in train]\n",
    "y = [d['beer/ABV'] >= 6.5 for d in train]\n"
   ]
  },
  {
   "cell_type": "code",
   "execution_count": 319,
   "metadata": {},
   "outputs": [],
   "source": [
    "X_train = X\n",
    "y_train = y\n",
    "\n",
    "X1 = [feature(a) for a in test]\n",
    "y1 = [a['beer/ABV'] >= 6.5 for a in test]\n",
    "X2 = [feature(b) for b in validation]\n",
    "y2 = [b['beer/ABV'] >= 6.5 for b in validation]\n"
   ]
  },
  {
   "cell_type": "code",
   "execution_count": 322,
   "metadata": {},
   "outputs": [],
   "source": [
    "def inner(x,y):\n",
    "  return sum([x[i]*y[i] for i in range(len(x))])\n",
    "\n",
    "def sigmoid(x):\n",
    "  return 1.0 / (1 + exp(-x))\n",
    "\n",
    "# NEGATIVE Log-likelihood\n",
    "def f(theta, X, y, lam):\n",
    "  loglikelihood = 0\n",
    "  for i in range(len(X)):\n",
    "    logit = inner(X[i], theta)\n",
    "    loglikelihood -= log(1 + exp(-logit))\n",
    "    if not y[i]: #??\n",
    "      loglikelihood -= logit\n",
    "  for k in range(len(theta)):\n",
    "    loglikelihood -= lam * theta[k]*theta[k]\n",
    "  # for debugging\n",
    "  # print(\"ll =\" + str(loglikelihood))\n",
    "  return -loglikelihood\n",
    "\n",
    "# NEGATIVE Derivative of log-likelihood\n",
    "def fprime(theta, X, y, lam):\n",
    "  dl = [0]*len(theta)\n",
    "  for i in range(len(X)):\n",
    "    logit = inner(X[i], theta)\n",
    "    for k in range(len(theta)):\n",
    "      dl[k] += X[i][k] * (1 - sigmoid(logit))\n",
    "      if not y[i]:\n",
    "        dl[k] -= X[i][k]\n",
    "  for k in range(len(theta)):\n",
    "    dl[k] -= lam*2*theta[k]\n",
    "  return numpy.array([-x for x in dl])\n"
   ]
  },
  {
   "cell_type": "code",
   "execution_count": 323,
   "metadata": {},
   "outputs": [],
   "source": [
    "def train(lam):\n",
    "  theta,_,_ = scipy.optimize.fmin_l_bfgs_b(f, [0]*len(X[0]), fprime, pgtol = 10, args = (X_train, y_train, lam))\n",
    "  return theta\n"
   ]
  },
  {
   "cell_type": "code",
   "execution_count": 324,
   "metadata": {},
   "outputs": [],
   "source": [
    "def performance1(theta):\n",
    "  scores = [inner(theta,x) for x in X1]\n",
    "  predictions = [s > 0 for s in scores]\n",
    "  correct = [(a==b) for (a,b) in zip(predictions,y1)]\n",
    "  acc = sum(correct) * 1.0 / len(correct)\n",
    "  return acc"
   ]
  },
  {
   "cell_type": "code",
   "execution_count": 325,
   "metadata": {},
   "outputs": [],
   "source": [
    "def performance2(theta):\n",
    "  scores = [inner(theta,x) for x in X2]\n",
    "  predictions = [s > 0 for s in scores]\n",
    "  correct = [(a==b) for (a,b) in zip(predictions,y2)]\n",
    "  acc = sum(correct) * 1.0 / len(correct)\n",
    "  return acc"
   ]
  },
  {
   "cell_type": "code",
   "execution_count": 326,
   "metadata": {},
   "outputs": [
    {
     "name": "stdout",
     "output_type": "stream",
     "text": [
      "test:lambda = 1.0:\taccuracy=0.7189056218875622\n"
     ]
    }
   ],
   "source": [
    "lam = 1.0\n",
    "theta = train(lam)\n",
    "acc = performance1(theta)\n",
    "print(\"test:\" + \"lambda = \" + str(lam) + \":\\taccuracy=\" + str(acc))"
   ]
  },
  {
   "cell_type": "code",
   "execution_count": 17,
   "metadata": {},
   "outputs": [
    {
     "name": "stdout",
     "output_type": "stream",
     "text": [
      "validation:lambda = 1.0:\taccuracy=0.7232255354892902\n"
     ]
    }
   ],
   "source": [
    "lam = 1.0\n",
    "theta = train(lam)\n",
    "acc = performance2(theta)\n",
    "print(\"validation:\" + \"lambda = \" + str(lam) + \":\\taccuracy=\" + str(acc))"
   ]
  },
  {
   "cell_type": "markdown",
   "metadata": {},
   "source": [
    "the accuracy of the classifier on the validation set is 0.7232255354892902 and test set is 0.7184856302873942."
   ]
  },
  {
   "cell_type": "markdown",
   "metadata": {},
   "source": [
    "### 2.Report the number of Positives, Negatives, True Positives, True Negatives, False Positives, and False Negatives using the test set of the classifier you trained above (1 mark)."
   ]
  },
  {
   "cell_type": "code",
   "execution_count": 31,
   "metadata": {},
   "outputs": [],
   "source": [
    "def performance3(theta):\n",
    "  scores = [inner(theta,x) for x in X_train]\n",
    "  predictions = [s > 0 for s in scores]\n",
    "  correct = [(a==b) for (a,b) in zip(predictions,y_train)]\n",
    "  acc = sum(correct) * 1.0 / len(correct)\n",
    "  pre = predictions\n",
    "  return pre\n",
    "\n",
    "y_pre = performance3(theta)"
   ]
  },
  {
   "cell_type": "code",
   "execution_count": 32,
   "metadata": {},
   "outputs": [
    {
     "data": {
      "text/plain": [
       "array([[3000, 3318],\n",
       "       [1391, 8957]])"
      ]
     },
     "execution_count": 32,
     "metadata": {},
     "output_type": "execute_result"
    }
   ],
   "source": [
    "from sklearn.metrics import confusion_matrix\n",
    "cnf_matrix = confusion_matrix(y_train, y_pre)\n",
    "cnf_matrix"
   ]
  },
  {
   "cell_type": "markdown",
   "metadata": {},
   "source": [
    "Positives: 4381\n",
    "\n",
    "Negatives: 12275\n",
    "\n",
    "True Positives: 3000\n",
    "\n",
    "True Negatives: 8957\n",
    "\n",
    "False Positives: 1381\n",
    "\n",
    "False Negatives: 3318"
   ]
  },
  {
   "cell_type": "markdown",
   "metadata": {},
   "source": [
    "### 3.Describe how you would modify the code stub provided if you wanted to assign greater importance to False Positives compared to False Negatives. "
   ]
  },
  {
   "cell_type": "markdown",
   "metadata": {},
   "source": [
    "Because the loglikehood is the cost for the Negative result, so we can add a constant which is more than 1 to this fuction, in order to assign greater importance to False Positives."
   ]
  },
  {
   "cell_type": "code",
   "execution_count": 333,
   "metadata": {},
   "outputs": [],
   "source": [
    "# NEGATIVE Log-likelihood\n",
    "def f1(theta, X, y, lam):\n",
    "  loglikelihood = 0\n",
    "  for i in range(len(X)):\n",
    "    logit = inner(X[i], theta)\n",
    "    loglikelihood -= log(1 + exp(-logit))\n",
    "    if not y[i]: #??\n",
    "      loglikelihood -= log(10) * logit\n",
    "  for k in range(len(theta)):\n",
    "    loglikelihood -= lam * theta[k]*theta[k]\n",
    "  # for debugging\n",
    "  # print(\"ll =\" + str(loglikelihood))\n",
    "  return -loglikelihood\n",
    "\n",
    "# NEGATIVE Derivative of log-likelihood\n",
    "def fprime1(theta, X, y, lam):\n",
    "  dl = [0]*len(theta)\n",
    "  for i in range(len(X)):\n",
    "    logit = inner(X[i], theta)\n",
    "    for k in range(len(theta)):\n",
    "      dl[k] += X[i][k] * (1 - sigmoid(logit))\n",
    "      if not y[i]:\n",
    "        dl[k] -= X[i][k] *log(10)\n",
    "  for k in range(len(theta)):\n",
    "    dl[k] -= lam*2*theta[k]\n",
    "  return numpy.array([-x for x in dl])\n"
   ]
  },
  {
   "cell_type": "code",
   "execution_count": 332,
   "metadata": {},
   "outputs": [
    {
     "data": {
      "text/plain": [
       "2.302585092994046"
      ]
     },
     "execution_count": 332,
     "metadata": {},
     "output_type": "execute_result"
    }
   ],
   "source": [
    "log(10)"
   ]
  },
  {
   "cell_type": "code",
   "execution_count": 334,
   "metadata": {},
   "outputs": [],
   "source": [
    "def train1(lam):\n",
    "  theta,_,_ = scipy.optimize.fmin_l_bfgs_b(f1, [0]*len(X[0]), fprime1, pgtol = 10, args = (X_train, y_train, lam))\n",
    "  return theta\n",
    "\n",
    "lam = 1.0\n",
    "theta = train1(lam)"
   ]
  },
  {
   "cell_type": "code",
   "execution_count": 337,
   "metadata": {},
   "outputs": [
    {
     "data": {
      "text/plain": [
       "0.5123004920196808"
      ]
     },
     "execution_count": 337,
     "metadata": {},
     "output_type": "execute_result"
    }
   ],
   "source": [
    "def performance3(theta):\n",
    "  scores = [inner(theta,x) for x in X_train]\n",
    "  predictions = [s > 0 for s in scores]\n",
    "  correct = [(a==b) for (a,b) in zip(predictions,y_train)]\n",
    "  acc = sum(correct) * 1.0 / len(correct)\n",
    "  return acc\n",
    "\n",
    "y_pre1 = performance3(theta)\n",
    "y_pre1"
   ]
  },
  {
   "cell_type": "markdown",
   "metadata": {},
   "source": [
    "### 4.Implement a training/validation/test pipeline so that you can select the best model based on its performance on the validation set. Try models with λ ∈ {0, 0.01, 0.1, 1, 100}. Report the performance on the training/validation/test sets for the best value of λ (1 mark)."
   ]
  },
  {
   "cell_type": "code",
   "execution_count": 33,
   "metadata": {},
   "outputs": [],
   "source": [
    "def performance(theta):\n",
    "  scores1 = [inner(theta,x) for x in X_train]\n",
    "  scores2 = [inner(theta,x) for x in X1]\n",
    "  scores3 = [inner(theta,x) for x in X2]  \n",
    "  predictions1 = [s > 0 for s in scores1]\n",
    "  predictions2 = [s > 0 for s in scores2]\n",
    "  predictions3 = [s > 0 for s in scores3]\n",
    "  correct1 = [(a==b) for (a,b) in zip(predictions1,y_train)]\n",
    "  correct2 = [(a==b) for (a,b) in zip(predictions2,y1)]\n",
    "  correct3 = [(a==b) for (a,b) in zip(predictions3,y2)]\n",
    "  acc1 = sum(correct1) * 1.0 / len(correct1)\n",
    "  acc2 = sum(correct2) * 1.0 / len(correct2)\n",
    "  acc3 = sum(correct3) * 1.0 / len(correct3)\n",
    "  dic = {\"train\":acc1,\"test\":acc2,\"validation\":acc3}\n",
    "  return dic"
   ]
  },
  {
   "cell_type": "code",
   "execution_count": 34,
   "metadata": {},
   "outputs": [
    {
     "name": "stdout",
     "output_type": "stream",
     "text": [
      "lambda = 0:\taccuracy={'test': 0.7184256314873703, 'train': 0.7170886835473419, 'validation': 0.7227455450890982}\n",
      "lambda = 0.01:\taccuracy={'test': 0.7184856302873942, 'train': 0.7170886835473419, 'validation': 0.7227455450890982}\n",
      "lambda = 0.1:\taccuracy={'test': 0.7184856302873942, 'train': 0.7172086883475339, 'validation': 0.7227455450890982}\n",
      "lambda = 1:\taccuracy={'test': 0.7184856302873942, 'train': 0.7174486979479179, 'validation': 0.7232255354892902}\n",
      "lambda = 100:\taccuracy={'test': 0.6697066058678827, 'train': 0.6675867034681388, 'validation': 0.6773864522709546}\n"
     ]
    }
   ],
   "source": [
    "lambdas = [0, 0.01, 0.1, 1, 100]\n",
    "for lam in lambdas:\n",
    "    theta = train(lam)\n",
    "    acc = performance(theta)\n",
    "    print(\"lambda = \" + str(lam) + \":\\taccuracy=\" + str(acc))"
   ]
  },
  {
   "cell_type": "markdown",
   "metadata": {},
   "source": [
    "## Task2 -- (Community Detection)"
   ]
  },
  {
   "cell_type": "markdown",
   "metadata": {},
   "source": [
    "### 5. How many connected components are in the graph, and how many nodes are in the largest connected component (1 mark)?"
   ]
  },
  {
   "cell_type": "code",
   "execution_count": 11,
   "metadata": {},
   "outputs": [
    {
     "data": {
      "image/png": "[encoded data removed]",
      "text/plain": [
       "<matplotlib.figure.Figure at 0x1085fbe50>"
      ]
     },
     "metadata": {},
     "output_type": "display_data"
    },
    {
     "data": {
      "text/plain": [
       "<matplotlib.figure.Figure at 0x151c430dd0>"
      ]
     },
     "metadata": {},
     "output_type": "display_data"
    }
   ],
   "source": [
    "import networkx as nx\n",
    "import matplotlib.pyplot as plt\n",
    "\n",
    "edges = set()\n",
    "nodes = set()\n",
    "for edge in urllib.urlopen(\"http://jmcauley.ucsd.edu/cse255/data/facebook/egonet.txt\", 'r'):\n",
    "  x,y = edge.split()\n",
    "  x,y = int(x),int(y)\n",
    "  edges.add((x,y))\n",
    "  edges.add((y,x))\n",
    "  nodes.add(x)\n",
    "  nodes.add(y)\n",
    "\n",
    "G = nx.Graph()\n",
    "for e in edges:\n",
    "  G.add_edge(e[0],e[1])\n",
    "nx.draw(G)\n",
    "plt.show()\n",
    "plt.clf()"
   ]
  },
  {
   "cell_type": "code",
   "execution_count": 12,
   "metadata": {},
   "outputs": [
    {
     "data": {
      "text/plain": [
       "3"
      ]
     },
     "execution_count": 12,
     "metadata": {},
     "output_type": "execute_result"
    }
   ],
   "source": [
    "nx.number_connected_components(G)"
   ]
  },
  {
   "cell_type": "code",
   "execution_count": 18,
   "metadata": {},
   "outputs": [
    {
     "data": {
      "text/plain": [
       "40"
      ]
     },
     "execution_count": 18,
     "metadata": {},
     "output_type": "execute_result"
    }
   ],
   "source": [
    "Cop = list(nx.connected_components(G))\n",
    "len(Cop[0])"
   ]
  },
  {
   "cell_type": "markdown",
   "metadata": {},
   "source": [
    "There are 3 connected components in the graph, and 40 nodes in the largest component."
   ]
  },
  {
   "cell_type": "markdown",
   "metadata": {},
   "source": [
    "### Next we’ll implement a ‘greedy’ version of normalized cuts, using just the largest connected component found above. First, split it into two equal halves, just by taking the 50% of nodes with the lowest and 50% with the highest IDs."
   ]
  },
  {
   "cell_type": "code",
   "execution_count": 281,
   "metadata": {},
   "outputs": [],
   "source": [
    "R = sorted(list(Cop[0]))\n",
    "small = R[:20]\n",
    "large = R[20:]\n",
    "\n",
    "\n",
    "small_community = small[:]\n",
    "large_community = large[:]"
   ]
  },
  {
   "cell_type": "code",
   "execution_count": 282,
   "metadata": {},
   "outputs": [
    {
     "data": {
      "image/png": "[encoded data removed]",
      "text/plain": [
       "<matplotlib.figure.Figure at 0x151d0ac710>"
      ]
     },
     "metadata": {},
     "output_type": "display_data"
    },
    {
     "data": {
      "text/plain": [
       "<matplotlib.figure.Figure at 0x10851b050>"
      ]
     },
     "metadata": {},
     "output_type": "display_data"
    }
   ],
   "source": [
    "H = G.subgraph(R)\n",
    "nx.draw(H)\n",
    "plt.show()\n",
    "plt.clf()"
   ]
  },
  {
   "cell_type": "markdown",
   "metadata": {},
   "source": [
    "### 6. What is the normalized-cut cost of the 50/50 split you found above (1 mark)?"
   ]
  },
  {
   "cell_type": "code",
   "execution_count": 275,
   "metadata": {},
   "outputs": [
    {
     "data": {
      "text/plain": [
       "0.4224058769513316"
      ]
     },
     "execution_count": 275,
     "metadata": {},
     "output_type": "execute_result"
    }
   ],
   "source": [
    "nx.normalized_cut_size(H,small,large)/2"
   ]
  },
  {
   "cell_type": "markdown",
   "metadata": {},
   "source": [
    "### 7.What are the elements of the split, and what is its normalized cut cost (1 mark)?"
   ]
  },
  {
   "cell_type": "code",
   "execution_count": 283,
   "metadata": {},
   "outputs": [],
   "source": [
    "def move(x1,x2,y1,y2):\n",
    "    Cost = {}\n",
    "    for i in range(len(x1)):\n",
    "        index1 = x1[i]\n",
    "        y2.append(index1)\n",
    "        x2.remove(index1)\n",
    "        Cost[str(index1)+\" 1 TO 2\"] = nx.normalized_cut_size(H,x2,y2)/2\n",
    "        x2.append(index1)\n",
    "        y2.remove(index1)\n",
    "    for i in range(len(y1)):\n",
    "        index2 = y1[i]\n",
    "        x2.append(index2)\n",
    "        y2.remove(index2)\n",
    "        Cost[str(index2)+\" 2 TO 1\"] = nx.normalized_cut_size(H,x2,y2)/2\n",
    "        y2.append(index2)\n",
    "        x2.remove(index2)\n",
    "    return Cost"
   ]
  },
  {
   "cell_type": "code",
   "execution_count": 284,
   "metadata": {
    "scrolled": true
   },
   "outputs": [
    {
     "data": {
      "text/plain": [
       "{'697 1 TO 2': 0.4411369509043928,\n",
       " '703 1 TO 2': 0.41988216745498297,\n",
       " '708 1 TO 2': 0.4320413436692507,\n",
       " '713 1 TO 2': 0.4504560402059937,\n",
       " '719 1 TO 2': 0.4548837978661815,\n",
       " '729 1 TO 2': 0.3873319662793347,\n",
       " '745 1 TO 2': 0.4420141262246525,\n",
       " '747 1 TO 2': 0.45910039463625285,\n",
       " '753 1 TO 2': 0.42378673957621327,\n",
       " '769 1 TO 2': 0.4372670807453416,\n",
       " '772 1 TO 2': 0.4338349766476388,\n",
       " '774 1 TO 2': 0.4411369509043928,\n",
       " '798 1 TO 2': 0.426614399799829,\n",
       " '800 1 TO 2': 0.4548837978661815,\n",
       " '803 1 TO 2': 0.41674472824163694,\n",
       " '804 1 TO 2': 0.3873319662793347,\n",
       " '805 1 TO 2': 0.44578612190885786,\n",
       " '810 1 TO 2': 0.43766578249336874,\n",
       " '811 1 TO 2': 0.42470160871821483,\n",
       " '819 1 TO 2': 0.4322557961572667,\n",
       " '823 2 TO 1': 0.3948717948717949,\n",
       " '825 2 TO 1': 0.44254463163188335,\n",
       " '828 2 TO 1': 0.39084740683661895,\n",
       " '830 2 TO 1': 0.401664402173913,\n",
       " '840 2 TO 1': 0.40572337042925277,\n",
       " '856 2 TO 1': 0.4467346448612415,\n",
       " '861 2 TO 1': 0.4405657792111975,\n",
       " '863 2 TO 1': 0.4550827423167849,\n",
       " '864 2 TO 1': 0.44254463163188335,\n",
       " '869 2 TO 1': 0.41582661290322576,\n",
       " '876 2 TO 1': 0.4550827423167849,\n",
       " '878 2 TO 1': 0.44984084824722276,\n",
       " '880 2 TO 1': 0.4116991526314683,\n",
       " '882 2 TO 1': 0.43945415168527513,\n",
       " '884 2 TO 1': 0.4374672946101517,\n",
       " '886 2 TO 1': 0.43945415168527513,\n",
       " '888 2 TO 1': 0.4446315789473684,\n",
       " '889 2 TO 1': 0.45635424604182545,\n",
       " '890 2 TO 1': 0.40658602150537626,\n",
       " '893 2 TO 1': 0.4374672946101517}"
      ]
     },
     "execution_count": 284,
     "metadata": {},
     "output_type": "execute_result"
    }
   ],
   "source": [
    "move(small,small_community,large,large_community)"
   ]
  },
  {
   "cell_type": "code",
   "execution_count": 285,
   "metadata": {},
   "outputs": [],
   "source": [
    "cost=[]\n",
    "\n",
    "for i in range(0,20):\n",
    "    result = move(small,small_community,large,large_community)\n",
    "    a = min(result.items(),key = lambda x: x[1])[0]\n",
    "    cost.append(result[a])\n",
    "    \n",
    "    if a[4] == '1':\n",
    "        small_community.remove(int(a[0:3]))\n",
    "        large_community.append(int(a[0:3]))\n",
    "\n",
    "    if a[4] == '2':\n",
    "        small_community.append(int(a[0:3]))\n",
    "        large_community.remove(int(a[0:3]))\n",
    "        \n",
    "    small = small_community[:]\n",
    "    large = large_community[:]"
   ]
  },
  {
   "cell_type": "code",
   "execution_count": 310,
   "metadata": {},
   "outputs": [
    {
     "data": {
      "text/plain": [
       "0.09817045961624274"
      ]
     },
     "execution_count": 310,
     "metadata": {},
     "output_type": "execute_result"
    }
   ],
   "source": [
    "min(cost)"
   ]
  },
  {
   "cell_type": "code",
   "execution_count": 289,
   "metadata": {},
   "outputs": [
    {
     "data": {
      "text/plain": [
       "([697,\n",
       "  703,\n",
       "  708,\n",
       "  713,\n",
       "  719,\n",
       "  745,\n",
       "  747,\n",
       "  753,\n",
       "  769,\n",
       "  772,\n",
       "  774,\n",
       "  800,\n",
       "  803,\n",
       "  805,\n",
       "  810,\n",
       "  811,\n",
       "  819,\n",
       "  828,\n",
       "  823,\n",
       "  830,\n",
       "  840,\n",
       "  880,\n",
       "  890,\n",
       "  869,\n",
       "  856,\n",
       "  798],\n",
       " [825, 861, 863, 864, 876, 878, 882, 884, 886, 888, 889, 893, 804, 729])"
      ]
     },
     "execution_count": 289,
     "metadata": {},
     "output_type": "execute_result"
    }
   ],
   "source": [
    "small_community,large_community"
   ]
  },
  {
   "cell_type": "markdown",
   "metadata": {},
   "source": [
    "### 8. Re-implement your greedy algorithm above so that it maximizes the modularity, rather than the normalized cut cost. Report modularity values for the 50/50 split you find (1 mark)."
   ]
  },
  {
   "cell_type": "code",
   "execution_count": 302,
   "metadata": {},
   "outputs": [],
   "source": [
    "R = sorted(list(Cop[0]))\n",
    "small = R[:20]\n",
    "large = R[20:]\n",
    "\n",
    "small_community = small[:]\n",
    "large_community = large[:]"
   ]
  },
  {
   "cell_type": "code",
   "execution_count": 303,
   "metadata": {},
   "outputs": [],
   "source": [
    "def move(x1,x2,y1,y2):\n",
    "    Modularity = {}\n",
    "    for i in range(len(x1)):\n",
    "        index1 = x1[i]\n",
    "        y2.append(index1)\n",
    "        x2.remove(index1)\n",
    "        Modularity[str(index1)+\" 1 TO 2\"] = nx.algorithms.community.modularity(H,[x2,y2])\n",
    "        x2.append(index1)\n",
    "        y2.remove(index1)\n",
    "    for i in range(len(y1)):\n",
    "        index2 = y1[i]\n",
    "        x2.append(index2)\n",
    "        y2.remove(index2)\n",
    "        Modularity[str(index2)+\" 2 TO 1\"] = nx.algorithms.community.modularity(H,[x2,y2])\n",
    "        y2.append(index2)\n",
    "        x2.remove(index2)\n",
    "    return Modularity"
   ]
  },
  {
   "cell_type": "code",
   "execution_count": 304,
   "metadata": {},
   "outputs": [
    {
     "data": {
      "text/plain": [
       "{'697 1 TO 2': 0.05883264462809917,\n",
       " '703 1 TO 2': 0.07979338842975216,\n",
       " '708 1 TO 2': 0.06792355371900828,\n",
       " '713 1 TO 2': 0.049493801652892584,\n",
       " '719 1 TO 2': 0.04508264462809923,\n",
       " '729 1 TO 2': 0.112386363636364,\n",
       " '745 1 TO 2': 0.05784090909090909,\n",
       " '747 1 TO 2': 0.04089876033057848,\n",
       " '753 1 TO 2': 0.0760227272727273,\n",
       " '769 1 TO 2': 0.06260330578512388,\n",
       " '772 1 TO 2': 0.06585743801652885,\n",
       " '774 1 TO 2': 0.05883264462809915,\n",
       " '798 1 TO 2': 0.07271694214876036,\n",
       " '800 1 TO 2': 0.04508264462809923,\n",
       " '803 1 TO 2': 0.08263429752066132,\n",
       " '804 1 TO 2': 0.11238636363636399,\n",
       " '805 1 TO 2': 0.054173553719008234,\n",
       " '810 1 TO 2': 0.06214876033057847,\n",
       " '811 1 TO 2': 0.07494834710743806,\n",
       " '819 1 TO 2': 0.06767561983471075,\n",
       " '823 2 TO 1': 0.10165289256198388,\n",
       " '825 2 TO 1': 0.056652892561983456,\n",
       " '828 2 TO 1': 0.10536157024793433,\n",
       " '830 2 TO 1': 0.09570247933884342,\n",
       " '840 2 TO 1': 0.09189049586776894,\n",
       " '856 2 TO 1': 0.05040289256198356,\n",
       " '861 2 TO 1': 0.05825413223140503,\n",
       " '863 2 TO 1': 0.04396694214876038,\n",
       " '864 2 TO 1': 0.05665289256198352,\n",
       " '869 2 TO 1': 0.08280991735537206,\n",
       " '876 2 TO 1': 0.043966942148760436,\n",
       " '878 2 TO 1': 0.049163223140496,\n",
       " '880 2 TO 1': 0.08676652892561988,\n",
       " '882 2 TO 1': 0.05949380165289268,\n",
       " '884 2 TO 1': 0.061725206611570334,\n",
       " '886 2 TO 1': 0.059493801652892704,\n",
       " '888 2 TO 1': 0.05433884297520663,\n",
       " '889 2 TO 1': 0.04260330578512396,\n",
       " '890 2 TO 1': 0.09190082644628125,\n",
       " '893 2 TO 1': 0.06172520661157022}"
      ]
     },
     "execution_count": 304,
     "metadata": {},
     "output_type": "execute_result"
    }
   ],
   "source": [
    "move(small,small_community,large,large_community)"
   ]
  },
  {
   "cell_type": "code",
   "execution_count": 305,
   "metadata": {},
   "outputs": [],
   "source": [
    "modularity=[]\n",
    "\n",
    "for i in range(0,20):\n",
    "    result = move(small,small_community,large,large_community)\n",
    "    a = max(result.items(),key = lambda x: x[1])[0]\n",
    "    cost.append(result[a])\n",
    "    \n",
    "    if a[4] == '1':\n",
    "        small_community.remove(int(a[0:3]))\n",
    "        large_community.append(int(a[0:3]))\n",
    "\n",
    "    if a[4] == '2':\n",
    "        small_community.append(int(a[0:3]))\n",
    "        large_community.remove(int(a[0:3]))\n",
    "        \n",
    "    small = small_community[:]\n",
    "    large = large_community[:]"
   ]
  },
  {
   "cell_type": "code",
   "execution_count": 306,
   "metadata": {},
   "outputs": [
    {
     "data": {
      "text/plain": [
       "0.3380165289256198"
      ]
     },
     "execution_count": 306,
     "metadata": {},
     "output_type": "execute_result"
    }
   ],
   "source": [
    "max(modularity)"
   ]
  }
 ],
 "metadata": {
  "kernelspec": {
   "display_name": "Python 3",
   "language": "python",
   "name": "python3"
  },
  "language_info": {
   "codemirror_mode": {
    "name": "ipython",
    "version": 3
   },
   "file_extension": ".py",
   "mimetype": "text/x-python",
   "name": "python",
   "nbconvert_exporter": "python",
   "pygments_lexer": "ipython3",
   "version": "3.6.6"
  }
 },
 "nbformat": 4,
 "nbformat_minor": 2
}
