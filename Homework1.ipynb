{
 "cells": [
  {
   "cell_type": "markdown",
   "metadata": {},
   "source": [
    "## Tasks — Regression (week 1)"
   ]
  },
  {
   "cell_type": "code",
   "execution_count": 1,
   "metadata": {},
   "outputs": [],
   "source": [
    "import numpy as np \n",
    "import pandas as pd\n",
    "import urllib\n",
    "import scipy.optimize\n",
    "import random\n",
    "from matplotlib import pyplot as plt\n",
    "from sklearn import svm"
   ]
  },
  {
   "cell_type": "code",
   "execution_count": 59,
   "metadata": {},
   "outputs": [
    {
     "name": "stdout",
     "output_type": "stream",
     "text": [
      "Reading data...\n",
      "done\n"
     ]
    }
   ],
   "source": [
    "def parseData(fname):\n",
    "    for l in urllib.urlopen(fname):\n",
    "        yield eval(l)       \n",
    "print \"Reading data...\"\n",
    "data = list(parseData(\"http://jmcauley.ucsd.edu/cse190/data/beer/beer_50000.json\"))\n",
    "print \"done\"\n",
    "        "
   ]
  },
  {
   "cell_type": "markdown",
   "metadata": {},
   "source": [
    "\n",
    "### 1. What is the distribution of ratings in the dataset (for ‘review/taste’)? That is, how many 1-star, 2-star, 3-star (etc.) reviews are there? You may write out the values or include a simple plot (1 mark)."
   ]
  },
  {
   "cell_type": "code",
   "execution_count": 44,
   "metadata": {},
   "outputs": [],
   "source": [
    "data1 = [d for d in data if 'review/taste' in d]\n",
    "\n",
    "def feature(datum):\n",
    "    feat = datum['review/taste']\n",
    "    return feat\n",
    "\n",
    "X = [feature(d) for d in data1]\n",
    "\n",
    "a = np.arange(0.5,5.5,0.5)\n",
    "f = []\n",
    "for x in a:\n",
    "    f.append(X.count(x))\n",
    "    \n",
    "df = pd.DataFrame(f,a)"
   ]
  },
  {
   "cell_type": "code",
   "execution_count": 60,
   "metadata": {},
   "outputs": [
    {
     "data": {
      "text/plain": [
       "{'beer/ABV': 3.5,\n",
       " 'beer/beerId': '436',\n",
       " 'beer/brewerId': '163',\n",
       " 'beer/name': 'Amstel Light',\n",
       " 'beer/style': 'Light Lager',\n",
       " 'review/appearance': 2.0,\n",
       " 'review/aroma': 2.0,\n",
       " 'review/overall': 1.5,\n",
       " 'review/palate': 2.0,\n",
       " 'review/taste': 2.0,\n",
       " 'review/text': 'The color of chardonnay with about as much head as a glass of wine.\\t\\tAroma is initially a bitter skunky funk, some grassy straw notes, but if you concentrate you can pick out some bready honey malt lying way beneath.\\t\\tFlavor is similar to the nose, initially skunky, but some notes of corn and honey malt emerge as it rolls through the mouth.\\t\\tMouthfeel is slick and watery, but finishes tingly, very crisp. Very low drinkability. I know a lot of people like this as a low calorie lighter import, but there really is not much flavor, and what flavor is there is funky and skunky.',\n",
       " 'review/timeStruct': {'hour': 23,\n",
       "  'isdst': 0,\n",
       "  'mday': 8,\n",
       "  'min': 17,\n",
       "  'mon': 3,\n",
       "  'sec': 29,\n",
       "  'wday': 6,\n",
       "  'yday': 67,\n",
       "  'year': 2009},\n",
       " 'review/timeUnix': 1236554249,\n",
       " 'user/gender': 'Male',\n",
       " 'user/profileName': 'far333'}"
      ]
     },
     "execution_count": 60,
     "metadata": {},
     "output_type": "execute_result"
    }
   ],
   "source": [
    "data1[1000]"
   ]
  },
  {
   "cell_type": "code",
   "execution_count": 45,
   "metadata": {},
   "outputs": [
    {
     "data": {
      "image/png": "[encoded data removed]",
      "text/plain": [
       "<matplotlib.figure.Figure at 0x11319c6d0>"
      ]
     },
     "metadata": {},
     "output_type": "display_data"
    }
   ],
   "source": [
    "df.plot(kind='bar',color='b',alpha = 0.7)\n",
    "plt.xlabel('Ratings') # Label X axis\n",
    "plt.ylabel('Count') #  Label Y axis\n",
    "plt.title('Beer') # titles\n",
    "plt.show()"
   ]
  },
  {
   "cell_type": "markdown",
   "metadata": {},
   "source": [
    "### 2.Train a simple predictor to predict a beer’s ‘taste’ score using two features: 1)beer is a Hefeweizen 2) beer/ABV"
   ]
  },
  {
   "cell_type": "code",
   "execution_count": 132,
   "metadata": {},
   "outputs": [
    {
     "name": "stderr",
     "output_type": "stream",
     "text": [
      "/anaconda2/lib/python2.7/site-packages/ipykernel_launcher.py:13: FutureWarning: `rcond` parameter will change to the default of machine precision times ``max(M, N)`` where M and N are the input matrix dimensions.\n",
      "To use the future default and silence this warning we advise to pass `rcond=None`, to keep using the old, explicitly pass `rcond=-1`.\n",
      "  del sys.path[0]\n"
     ]
    }
   ],
   "source": [
    "data2 = [d for d in data if d.has_key('beer/style')]\n",
    "\n",
    "def feature(datum):\n",
    "  feat = [1,datum['beer/ABV']]\n",
    "  if datum['beer/style'] == 'Hefeweizen':\n",
    "    feat.append(1)\n",
    "  else:\n",
    "    feat.append(0)\n",
    "  return feat\n",
    "\n",
    "X = [feature(d) for d in data2]\n",
    "y = [d['review/taste'] for d in data2]\n",
    "theta,residuals,rank,s = np.linalg.lstsq(X, y)"
   ]
  },
  {
   "cell_type": "code",
   "execution_count": 133,
   "metadata": {},
   "outputs": [
    {
     "data": {
      "text/plain": [
       "array([ 3.11795084,  0.10877902, -0.05637406])"
      ]
     },
     "execution_count": 133,
     "metadata": {},
     "output_type": "execute_result"
    }
   ],
   "source": [
    "theta"
   ]
  },
  {
   "cell_type": "markdown",
   "metadata": {},
   "source": [
    "theta0 = 3.11795084  \n",
    "the constant attributer\n",
    "\n",
    "theta1 = 0.10877902\n",
    "the influence of \"ABV\" attributer\n",
    "\n",
    "theta2 = -0.05637406\n",
    "the influence of attributer that if beer is a Hefeweizen"
   ]
  },
  {
   "cell_type": "markdown",
   "metadata": {},
   "source": [
    "### 3.Split the data into two equal fractions – the first half for training, the second half for testing (based on the order they appear in the file). Train the same model as above on the training set only. What is the model’s MSE on the training and on the test set (1 mark)?"
   ]
  },
  {
   "cell_type": "code",
   "execution_count": 60,
   "metadata": {},
   "outputs": [
    {
     "name": "stderr",
     "output_type": "stream",
     "text": [
      "/anaconda2/lib/python2.7/site-packages/ipykernel_launcher.py:12: FutureWarning: `rcond` parameter will change to the default of machine precision times ``max(M, N)`` where M and N are the input matrix dimensions.\n",
      "To use the future default and silence this warning we advise to pass `rcond=None`, to keep using the old, explicitly pass `rcond=-1`.\n",
      "  if sys.path[0] == '':\n"
     ]
    }
   ],
   "source": [
    "data3 = data[:25000]\n",
    "data4 = data[25000:]\n",
    "\n",
    "#data3 = [d for d in data3 if d.has_key('beer/style')]\n",
    "\n",
    "def feature(datum):\n",
    "  feat = [1,(1 if datum['beer/style'] == 'Hefeweizen' else 0) ,  datum['beer/ABV']]\n",
    "  return feat\n",
    "\n",
    "X = [feature(d) for d in data3]\n",
    "y = [d['review/taste'] for d in data3]\n",
    "theta,residuals,rank,s = np.linalg.lstsq(X, y)\n",
    "mse1 = residuals/len(y)"
   ]
  },
  {
   "cell_type": "code",
   "execution_count": 61,
   "metadata": {},
   "outputs": [],
   "source": [
    "theta = np.matrix(theta).T\n",
    "\n",
    "data4 = [d for d in data4 if d.has_key('beer/style')]\n",
    "X = [feature(d) for d in data4]\n",
    "y = [d['review/taste'] for d in data4]\n",
    "X = np.matrix(X)\n",
    "y = np.matrix(y).T\n",
    "\n",
    "diff = X*theta - y\n",
    "diffSq = diff.T*diff\n",
    "mse2 = diffSq / len(y)"
   ]
  },
  {
   "cell_type": "code",
   "execution_count": 62,
   "metadata": {},
   "outputs": [
    {
     "data": {
      "text/plain": [
       "matrix([[0.42370652]])"
      ]
     },
     "execution_count": 62,
     "metadata": {},
     "output_type": "execute_result"
    }
   ],
   "source": [
    "##TEST MSE\n",
    "mse2"
   ]
  },
  {
   "cell_type": "code",
   "execution_count": 63,
   "metadata": {},
   "outputs": [
    {
     "data": {
      "text/plain": [
       "array([0.48396806])"
      ]
     },
     "execution_count": 63,
     "metadata": {},
     "output_type": "execute_result"
    }
   ],
   "source": [
    "##TRAINING MSE\n",
    "mse1"
   ]
  },
  {
   "cell_type": "markdown",
   "metadata": {},
   "source": [
    "### 4.Repeat the above experiment by using a random 50% split of the data (i.e., half for training, half for testing, after first shuffling the data). "
   ]
  },
  {
   "cell_type": "code",
   "execution_count": 70,
   "metadata": {},
   "outputs": [],
   "source": [
    "data5 = data\n",
    "random.shuffle(data5)\n",
    "data6 = data5[:25000]\n",
    "data7 = data5[25000:]\n"
   ]
  },
  {
   "cell_type": "code",
   "execution_count": 71,
   "metadata": {},
   "outputs": [
    {
     "name": "stderr",
     "output_type": "stream",
     "text": [
      "/anaconda2/lib/python2.7/site-packages/ipykernel_launcher.py:10: FutureWarning: `rcond` parameter will change to the default of machine precision times ``max(M, N)`` where M and N are the input matrix dimensions.\n",
      "To use the future default and silence this warning we advise to pass `rcond=None`, to keep using the old, explicitly pass `rcond=-1`.\n",
      "  # Remove the CWD from sys.path while we load stuff.\n"
     ]
    }
   ],
   "source": [
    "#data6 = [d for d in data6 if d.has_key('beer/style')]\n",
    "#data7 = [d for d in data7 if d.has_key('beer/style')]\n",
    "\n",
    "def feature(datum):\n",
    "  feat = [1,(1 if datum['beer/style'] == 'Hefeweizen' else 0) ,  datum['beer/ABV']]\n",
    "  return feat\n",
    "\n",
    "X = [feature(d) for d in data6]\n",
    "y = [d['review/taste'] for d in data6]\n",
    "theta,residuals,rank,s = np.linalg.lstsq(X, y)\n",
    "mse3 = residuals/len(y)\n",
    "\n",
    "theta = np.matrix(theta).T\n",
    "\n",
    "X = [feature(d) for d in data7]\n",
    "y = [d['review/taste'] for d in data7]\n",
    "X = np.matrix(X)\n",
    "y = np.matrix(y).T\n",
    "diff = X*theta - y\n",
    "diffSq = diff.T*diff\n",
    "mse4 = diffSq / len(y)"
   ]
  },
  {
   "cell_type": "code",
   "execution_count": 72,
   "metadata": {},
   "outputs": [
    {
     "data": {
      "text/plain": [
       "array([0.44789317])"
      ]
     },
     "execution_count": 72,
     "metadata": {},
     "output_type": "execute_result"
    }
   ],
   "source": [
    "mse3"
   ]
  },
  {
   "cell_type": "code",
   "execution_count": 73,
   "metadata": {},
   "outputs": [
    {
     "data": {
      "text/plain": [
       "matrix([[0.45147536]])"
      ]
     },
     "execution_count": 73,
     "metadata": {},
     "output_type": "execute_result"
    }
   ],
   "source": [
    "mse4"
   ]
  },
  {
   "cell_type": "markdown",
   "metadata": {},
   "source": [
    "After shuffling the data sequence, mse of training data and testing data are smaller. "
   ]
  },
  {
   "cell_type": "markdown",
   "metadata": {},
   "source": [
    "### 5.Modify your experiment from Question 4 to use the features"
   ]
  },
  {
   "cell_type": "code",
   "execution_count": 74,
   "metadata": {},
   "outputs": [
    {
     "name": "stderr",
     "output_type": "stream",
     "text": [
      "/anaconda2/lib/python2.7/site-packages/ipykernel_launcher.py:9: FutureWarning: `rcond` parameter will change to the default of machine precision times ``max(M, N)`` where M and N are the input matrix dimensions.\n",
      "To use the future default and silence this warning we advise to pass `rcond=None`, to keep using the old, explicitly pass `rcond=-1`.\n",
      "  if __name__ == '__main__':\n"
     ]
    }
   ],
   "source": [
    "def feature(datum):\n",
    "  feat1 = datum['beer/ABV'] if datum['beer/style'] == 'Hefeweizen' else 0\n",
    "  feat2 = datum['beer/ABV'] if datum['beer/style'] != 'Hefeweizen' else 0\n",
    "  feat = [1,feat1, feat2]\n",
    "  return feat\n",
    "\n",
    "X = [feature(d) for d in data6]\n",
    "y = [d['review/taste'] for d in data6]\n",
    "theta,residuals,rank,s = np.linalg.lstsq(X, y)\n",
    "mse3 = residuals/len(y)\n",
    "\n",
    "theta = np.matrix(theta).T\n",
    "\n",
    "X = [feature(d) for d in data7]\n",
    "y = [d['review/taste'] for d in data7]\n",
    "X = np.matrix(X)\n",
    "y = np.matrix(y).T\n",
    "diff = X*theta - y\n",
    "diffSq = diff.T*diff\n",
    "mse4 = diffSq / len(y)"
   ]
  },
  {
   "cell_type": "code",
   "execution_count": 75,
   "metadata": {},
   "outputs": [
    {
     "data": {
      "text/plain": [
       "array([0.44788606])"
      ]
     },
     "execution_count": 75,
     "metadata": {},
     "output_type": "execute_result"
    }
   ],
   "source": [
    "mse3"
   ]
  },
  {
   "cell_type": "code",
   "execution_count": 76,
   "metadata": {},
   "outputs": [
    {
     "data": {
      "text/plain": [
       "matrix([[0.45147021]])"
      ]
     },
     "execution_count": 76,
     "metadata": {},
     "output_type": "execute_result"
    }
   ],
   "source": [
    "mse4"
   ]
  },
  {
   "cell_type": "markdown",
   "metadata": {},
   "source": [
    "### 6.The model from Question 5 uses the same two features as the model from Question 4 and has the same dimensionality. Comment on why the two models might perform differently (1 mark).\n"
   ]
  },
  {
   "cell_type": "markdown",
   "metadata": {},
   "source": [
    "Although the dimensionality for two models are same, but the input value are different. For the model of question 2-4, the feature looks like [1,ABV,1/0]. But for the model of question 5, the feature looks like [1,5.0,1] for the beer is Hefeweizen, and [1,0,5.0] for the beer is not the Hefeweizen for example. Plus, those two are all random shuffle dataset, as the result, the two models would perform differently."
   ]
  },
  {
   "cell_type": "markdown",
   "metadata": {},
   "source": [
    "## Tasks — Classification (week 2):"
   ]
  },
  {
   "cell_type": "markdown",
   "metadata": {},
   "source": [
    "### 7.First, let’s train a predictor that estimates whether a beer is a ‘Hefeweizen’ using five features describing its rating:\n",
    "[‘review/taste’, ‘review/appearance’, ‘review/aroma’, ‘review/palate’, ‘review/overall’]."
   ]
  },
  {
   "cell_type": "code",
   "execution_count": 4,
   "metadata": {},
   "outputs": [],
   "source": [
    "def feature(datum):\n",
    "    feat = [datum['review/taste'],datum['review/appearance'],datum['review/aroma'],datum['review/palate'],datum['review/overall']]\n",
    "    return feat\n",
    "\n",
    "X = [feature(d) for d in data5]\n",
    "y = [\"Hefeweizen\" in b['beer/style'] for b in data5]"
   ]
  },
  {
   "cell_type": "code",
   "execution_count": 5,
   "metadata": {},
   "outputs": [
    {
     "data": {
      "text/plain": [
       "[False, False, False, False, False, False, False, False, False, False]"
      ]
     },
     "execution_count": 5,
     "metadata": {},
     "output_type": "execute_result"
    }
   ],
   "source": [
    "y[:10]"
   ]
  },
  {
   "cell_type": "code",
   "execution_count": 6,
   "metadata": {},
   "outputs": [],
   "source": [
    "X_train = X[:25000]\n",
    "y_train = y[:25000]\n",
    "\n",
    "X_test = X[25000:]\n",
    "y_test = y[25000:]"
   ]
  },
  {
   "cell_type": "code",
   "execution_count": 7,
   "metadata": {
    "scrolled": true
   },
   "outputs": [
    {
     "data": {
      "text/plain": [
       "SVC(C=1000, cache_size=200, class_weight=None, coef0=0.0,\n",
       "  decision_function_shape='ovr', degree=3, gamma='auto', kernel='linear',\n",
       "  max_iter=-1, probability=False, random_state=None, shrinking=True,\n",
       "  tol=0.001, verbose=False)"
      ]
     },
     "execution_count": 7,
     "metadata": {},
     "output_type": "execute_result"
    }
   ],
   "source": [
    "clf = svm.SVC(C=1000, kernel='linear')\n",
    "clf.fit(X_train, y_train)"
   ]
  },
  {
   "cell_type": "code",
   "execution_count": 8,
   "metadata": {},
   "outputs": [
    {
     "data": {
      "text/plain": [
       "array([False, False, False, False, False, False, False, False, False,\n",
       "       False])"
      ]
     },
     "execution_count": 8,
     "metadata": {},
     "output_type": "execute_result"
    }
   ],
   "source": [
    "train_predictions = clf.predict(X_train)\n",
    "test_predictions = clf.predict(X_test)\n",
    "train_predictions[:10]"
   ]
  },
  {
   "cell_type": "code",
   "execution_count": 9,
   "metadata": {},
   "outputs": [],
   "source": [
    "train_correct = train_predictions == y_train\n",
    "test_correct = test_predictions == y_test"
   ]
  },
  {
   "cell_type": "code",
   "execution_count": 21,
   "metadata": {},
   "outputs": [],
   "source": [
    "train_acc = float(sum(train_correct))/float(len(train_correct))\n",
    "test_acc = float(sum(test_correct))/float(len(test_correct))"
   ]
  },
  {
   "cell_type": "code",
   "execution_count": 25,
   "metadata": {},
   "outputs": [
    {
     "data": {
      "text/plain": [
       "0.98824"
      ]
     },
     "execution_count": 25,
     "metadata": {},
     "output_type": "execute_result"
    }
   ],
   "source": [
    "train_acc"
   ]
  },
  {
   "cell_type": "code",
   "execution_count": 26,
   "metadata": {},
   "outputs": [
    {
     "data": {
      "text/plain": [
       "0.98704"
      ]
     },
     "execution_count": 26,
     "metadata": {},
     "output_type": "execute_result"
    }
   ],
   "source": [
    "test_acc "
   ]
  },
  {
   "cell_type": "markdown",
   "metadata": {},
   "source": [
    "### 8.Considering same prediction problem as above, can you come up with a more accurate predictor (e.g. using features from the text, or otherwise)? Write down the feature vector you design, and report its train/test accuracy (1 mark)."
   ]
  },
  {
   "cell_type": "code",
   "execution_count": 32,
   "metadata": {},
   "outputs": [],
   "source": [
    "data8 = [d for d in data6 if \"Hefeweizen\" in d['beer/style']]"
   ]
  },
  {
   "cell_type": "code",
   "execution_count": 33,
   "metadata": {},
   "outputs": [
    {
     "data": {
      "text/plain": [
       "{'beer/ABV': 4.9,\n",
       " 'beer/beerId': '1621',\n",
       " 'beer/brewerId': '394',\n",
       " 'beer/name': \"Stoudt's Weizen\",\n",
       " 'beer/style': 'Hefeweizen',\n",
       " 'review/appearance': 4.0,\n",
       " 'review/aroma': 3.5,\n",
       " 'review/overall': 4.0,\n",
       " 'review/palate': 3.5,\n",
       " 'review/taste': 4.0,\n",
       " 'review/text': 'Sweet wheat smell.  Cloudy white/yellow look with a creamy white head.  It lasts (the retention) for a while but not forever.  The taste is of yeast and clove.  Clean fresh finish.. not as mouth as I anticipated by its appearence.  The brew is a solid wheat selection for summer drinking.  You are also left with a thick malt coating of the tongue and throat which also has a banana clove as well.  Worth a try if you are a \"wheat head\" if not get the tripel instead.. trust me...',\n",
       " 'review/timeStruct': {'hour': 19,\n",
       "  'isdst': 0,\n",
       "  'mday': 16,\n",
       "  'min': 24,\n",
       "  'mon': 7,\n",
       "  'sec': 30,\n",
       "  'wday': 1,\n",
       "  'yday': 197,\n",
       "  'year': 2002},\n",
       " 'review/timeUnix': 1026847470,\n",
       " 'user/profileName': 'frank4sail'}"
      ]
     },
     "execution_count": 33,
     "metadata": {},
     "output_type": "execute_result"
    }
   ],
   "source": [
    "data8[1]"
   ]
  },
  {
   "cell_type": "code",
   "execution_count": 36,
   "metadata": {},
   "outputs": [],
   "source": [
    "def feature(datum):\n",
    "    feat = [datum['review/taste'],datum['review/appearance'],datum['review/aroma'],datum['review/palate'],datum['review/overall']]\n",
    "    if \"Hefeweizen\" in d['beer/name']:\n",
    "        feat.append(1)\n",
    "    else:\n",
    "        feat.append(0)\n",
    "    return feat\n",
    "\n",
    "X = [feature(d) for d in data5]\n",
    "y = [\"Hefeweizen\" in b['beer/style'] for b in data5]"
   ]
  },
  {
   "cell_type": "code",
   "execution_count": 37,
   "metadata": {},
   "outputs": [],
   "source": [
    "X_train = X[:25000]\n",
    "y_train = y[:25000]\n",
    "\n",
    "X_test = X[25000:]\n",
    "y_test = y[25000:]"
   ]
  },
  {
   "cell_type": "code",
   "execution_count": 38,
   "metadata": {},
   "outputs": [
    {
     "data": {
      "text/plain": [
       "SVC(C=1000, cache_size=200, class_weight=None, coef0=0.0,\n",
       "  decision_function_shape='ovr', degree=3, gamma='auto', kernel='linear',\n",
       "  max_iter=-1, probability=False, random_state=None, shrinking=True,\n",
       "  tol=0.001, verbose=False)"
      ]
     },
     "execution_count": 38,
     "metadata": {},
     "output_type": "execute_result"
    }
   ],
   "source": [
    "clf = svm.SVC(C=1000, kernel='linear')\n",
    "clf.fit(X_train, y_train)"
   ]
  },
  {
   "cell_type": "code",
   "execution_count": 39,
   "metadata": {},
   "outputs": [],
   "source": [
    "train_predictions = clf.predict(X_train)\n",
    "test_predictions = clf.predict(X_test)\n",
    "train_predictions[:10]\n",
    "\n",
    "train_correct = train_predictions == y_train\n",
    "test_correct = test_predictions == y_test"
   ]
  },
  {
   "cell_type": "code",
   "execution_count": 40,
   "metadata": {},
   "outputs": [],
   "source": [
    "train_acc = float(sum(train_correct))/float(len(train_correct))\n",
    "test_acc = float(sum(test_correct))/float(len(test_correct))"
   ]
  },
  {
   "cell_type": "code",
   "execution_count": 41,
   "metadata": {},
   "outputs": [
    {
     "data": {
      "text/plain": [
       "0.99224"
      ]
     },
     "execution_count": 41,
     "metadata": {},
     "output_type": "execute_result"
    }
   ],
   "source": [
    "train_acc"
   ]
  },
  {
   "cell_type": "code",
   "execution_count": 42,
   "metadata": {},
   "outputs": [
    {
     "data": {
      "text/plain": [
       "0.99144"
      ]
     },
     "execution_count": 42,
     "metadata": {},
     "output_type": "execute_result"
    }
   ],
   "source": [
    "test_acc "
   ]
  }
 ],
 "metadata": {
  "kernelspec": {
   "display_name": "Python 3",
   "language": "python",
   "name": "python3"
  },
  "language_info": {
   "codemirror_mode": {
    "name": "ipython",
    "version": 3
   },
   "file_extension": ".py",
   "mimetype": "text/x-python",
   "name": "python",
   "nbconvert_exporter": "python",
   "pygments_lexer": "ipython3",
   "version": "3.6.6"
  }
 },
 "nbformat": 4,
 "nbformat_minor": 2
}
